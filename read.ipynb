{
 "cells": [
  {
   "cell_type": "code",
   "execution_count": 1,
   "metadata": {},
   "outputs": [
    {
     "name": "stdout",
     "output_type": "stream",
     "text": [
      "Using matplotlib backend: module://matplotlib_inline.backend_inline\n"
     ]
    }
   ],
   "source": [
    "import cv2 as cv\n",
    "import numpy as np\n",
    "%matplotlib auto"
   ]
  },
  {
   "cell_type": "code",
   "execution_count": 3,
   "metadata": {},
   "outputs": [],
   "source": [
    "# Reading images\n",
    "img = cv.imread(\"Photos/cat.jpg\")\n",
    "cv.imshow(\"Cat\", img)\n",
    "cv.waitKey(0)\n",
    "cv.destroyAllWindows()"
   ]
  },
  {
   "cell_type": "code",
   "execution_count": 5,
   "metadata": {},
   "outputs": [
    {
     "ename": "error",
     "evalue": "OpenCV(4.11.0) D:\\a\\opencv-python\\opencv-python\\opencv\\modules\\highgui\\src\\window.cpp:973: error: (-215:Assertion failed) size.width>0 && size.height>0 in function 'cv::imshow'\n",
     "output_type": "error",
     "traceback": [
      "\u001b[1;31m---------------------------------------------------------------------------\u001b[0m",
      "\u001b[1;31merror\u001b[0m                                     Traceback (most recent call last)",
      "Cell \u001b[1;32mIn[5], line 5\u001b[0m\n\u001b[0;32m      3\u001b[0m \u001b[38;5;28;01mwhile\u001b[39;00m \u001b[38;5;28;01mTrue\u001b[39;00m:\n\u001b[0;32m      4\u001b[0m     isTrue, frame \u001b[38;5;241m=\u001b[39m capture\u001b[38;5;241m.\u001b[39mread()\n\u001b[1;32m----> 5\u001b[0m     \u001b[43mcv\u001b[49m\u001b[38;5;241;43m.\u001b[39;49m\u001b[43mimshow\u001b[49m\u001b[43m(\u001b[49m\u001b[38;5;124;43m\"\u001b[39;49m\u001b[38;5;124;43mDog video\u001b[39;49m\u001b[38;5;124;43m\"\u001b[39;49m\u001b[43m,\u001b[49m\u001b[43m \u001b[49m\u001b[43mframe\u001b[49m\u001b[43m)\u001b[49m\n\u001b[0;32m      6\u001b[0m     \u001b[38;5;28;01mif\u001b[39;00m cv\u001b[38;5;241m.\u001b[39mwaitKey(\u001b[38;5;241m9\u001b[39m) \u001b[38;5;129;01mand\u001b[39;00m \u001b[38;5;241m0xFF\u001b[39m\u001b[38;5;241m==\u001b[39m\u001b[38;5;28mord\u001b[39m(\u001b[38;5;124m\"\u001b[39m\u001b[38;5;124md\u001b[39m\u001b[38;5;124m\"\u001b[39m):\n\u001b[0;32m      7\u001b[0m         \u001b[38;5;28;01mbreak\u001b[39;00m\n",
      "\u001b[1;31merror\u001b[0m: OpenCV(4.11.0) D:\\a\\opencv-python\\opencv-python\\opencv\\modules\\highgui\\src\\window.cpp:973: error: (-215:Assertion failed) size.width>0 && size.height>0 in function 'cv::imshow'\n"
     ]
    }
   ],
   "source": [
    "# Reading videos\n",
    "capture = cv.VideoCapture(\"Videos/dog.mp4\")\n",
    "while True:\n",
    "    isTrue, frame = capture.read()\n",
    "    cv.imshow(\"Dog video\", frame)\n",
    "    if cv.waitKey(9) and 0xFF==ord(\"d\"):\n",
    "        break\n",
    "    \n",
    "cv.destroyAllWindows()\n",
    "capture.release()"
   ]
  },
  {
   "cell_type": "code",
   "execution_count": 7,
   "metadata": {},
   "outputs": [],
   "source": [
    "# Rescaling functions\n",
    "def rescaleFrame(frame, scale=0.75):\n",
    "    # Photo, Video or Live\n",
    "    width = int(frame.shape[1] * scale)\n",
    "    height = int(frame.shape[0] * scale)\n",
    "    dimensions = (width, height)\n",
    "    \n",
    "    return cv.resize(frame, dimensions, interpolation=cv.INTER_AREA)\n",
    "\n",
    "def changeRes(width, height):\n",
    "    # Only live video\n",
    "    capture.set(3, width)\n",
    "    capture.set(4, height)\n",
    "    "
   ]
  },
  {
   "cell_type": "code",
   "execution_count": 8,
   "metadata": {},
   "outputs": [],
   "source": [
    "# Reading rescaled videos\n",
    "capture = cv.VideoCapture(\"Videos/dog.mp4\")\n",
    "isTrue, frame = capture.read()\n",
    "while isTrue:\n",
    "    if cv.waitKey(20) and 0xFF==ord(\"d\"):\n",
    "        break\n",
    "    frame_resized = rescaleFrame(frame, 0.2)\n",
    "    cv.imshow(\"Dog video\", frame_resized)\n",
    "    isTrue, frame = capture.read()\n",
    "    \n",
    "cv.destroyAllWindows()\n",
    "capture.release()"
   ]
  },
  {
   "cell_type": "code",
   "execution_count": 9,
   "metadata": {},
   "outputs": [],
   "source": [
    "# Transformando cor RGB\n",
    "blank = np.zeros((500,500,3), dtype=\"uint8\")\n",
    "blank[200:300, 300:400] = 0,255,0\n",
    "cv.imshow(\"Green\", blank)\n",
    "\n",
    "cv.waitKey(0)\n",
    "cv.destroyAllWindows()"
   ]
  },
  {
   "cell_type": "code",
   "execution_count": 10,
   "metadata": {},
   "outputs": [],
   "source": [
    "# Desenhando retangulos (para preencher pode ser -1 ou cv.FILLED)\n",
    "blank = np.zeros((500,500,3), dtype=\"uint8\")\n",
    "cv.rectangle(blank, (0,0), (blank.shape[1], blank.shape[0]//2), (0,255,0), thickness=cv.FILLED)\n",
    "cv.imshow(\"Green rect\", blank)\n",
    "\n",
    "\n",
    "cv.waitKey(0)\n",
    "cv.destroyAllWindows()"
   ]
  },
  {
   "cell_type": "code",
   "execution_count": 11,
   "metadata": {},
   "outputs": [],
   "source": [
    "# Desenhando círculos\n",
    "blank = np.zeros((500,500,3), dtype=\"uint8\")\n",
    "cv.circle(blank, (blank.shape[1]//2, blank.shape[0]//2), 40, (0,255,0), thickness=3)\n",
    "cv.imshow(\"Green circle\", blank)\n",
    "\n",
    "cv.waitKey(0)\n",
    "cv.destroyAllWindows()"
   ]
  },
  {
   "cell_type": "code",
   "execution_count": 13,
   "metadata": {},
   "outputs": [],
   "source": [
    "# Desenhando linha\n",
    "blank = np.zeros((500,500,3), dtype=\"uint8\")\n",
    "cv.line(blank, (0,0), (blank.shape[1]//2, blank.shape[0]//2), (0,255,0), thickness=3)\n",
    "cv.imshow(\"Green line\", blank)\n",
    "\n",
    "cv.waitKey(0)\n",
    "cv.destroyAllWindows()"
   ]
  },
  {
   "cell_type": "code",
   "execution_count": 14,
   "metadata": {},
   "outputs": [],
   "source": [
    "# Escrevendo texto\n",
    "blank = np.zeros((500,500,3), dtype=\"uint8\")\n",
    "cv.putText(blank, \"Hello\", (225,225), cv.FONT_HERSHEY_TRIPLEX, 1.0, (0,250,0), thickness=2)\n",
    "cv.imshow(\"Green text\", blank)\n",
    "\n",
    "cv.waitKey(0)\n",
    "cv.destroyAllWindows()"
   ]
  },
  {
   "cell_type": "code",
   "execution_count": null,
   "metadata": {},
   "outputs": [],
   "source": []
  },
  {
   "cell_type": "code",
   "execution_count": 6,
   "metadata": {},
   "outputs": [],
   "source": [
    "cv.destroyAllWindows()"
   ]
  },
  {
   "cell_type": "code",
   "execution_count": 20,
   "metadata": {},
   "outputs": [],
   "source": [
    "# Convertendo para escala de cinza\n",
    "img = cv.imread(\"Photos/cat.jpg\")\n",
    "\n",
    "gray = cv.cvtColor(img, cv.COLOR_BGR2GRAY)\n",
    "\n",
    "cv.imshow(\"Cat\", gray)\n",
    "\n",
    "cv.waitKey(0)\n",
    "cv.destroyAllWindows()"
   ]
  },
  {
   "cell_type": "code",
   "execution_count": null,
   "metadata": {},
   "outputs": [],
   "source": [
    "# Blur, maior o ksize mais borrado\n",
    "blur = cv.GaussianBlur(img, (3,3), cv.BORDER_DEFAULT)\n",
    "cv.imshow(\"Blur\", blur)\n",
    "\n",
    "cv.waitKey(0)\n",
    "cv.destroyAllWindows()"
   ]
  },
  {
   "cell_type": "code",
   "execution_count": 10,
   "metadata": {},
   "outputs": [],
   "source": [
    "# Edge Cascade, imagem com blur vai mostrar menos bordas\n",
    "canny = cv.Canny(blur, 125, 175)\n",
    "cv.imshow(\"Canny\", canny)\n",
    "\n",
    "cv.waitKey(0)\n",
    "cv.destroyAllWindows()"
   ]
  },
  {
   "cell_type": "code",
   "execution_count": 15,
   "metadata": {},
   "outputs": [],
   "source": [
    "# Dilatando imagem\n",
    "dilated = cv.dilate(canny, (7,7), iterations=3)\n",
    "cv.imshow(\"Dialted\", dilated)\n",
    "\n",
    "cv.waitKey(0)\n",
    "cv.destroyAllWindows()"
   ]
  },
  {
   "cell_type": "code",
   "execution_count": null,
   "metadata": {},
   "outputs": [],
   "source": [
    "# Erode\n",
    "eroded = cv.erode(dilated, (7,7), iterations=3)\n",
    "cv.imshow(\"Eroded\", eroded)\n",
    "\n",
    "cv.waitKey(0)\n",
    "cv.destroyAllWindows()"
   ]
  },
  {
   "cell_type": "code",
   "execution_count": 17,
   "metadata": {},
   "outputs": [],
   "source": [
    "# Resize\n",
    "resized = cv.resize(img, (500,500))\n",
    "cv.imshow(\"Resized\", resized)\n",
    "\n",
    "cv.waitKey(0)\n",
    "cv.destroyAllWindows()"
   ]
  },
  {
   "cell_type": "code",
   "execution_count": 18,
   "metadata": {},
   "outputs": [],
   "source": [
    "# Cropping\n",
    "cropped = img[50:200, 200:400]\n",
    "cv.imshow(\"Cropped\", cropped)\n",
    "\n",
    "cv.waitKey(0)\n",
    "cv.destroyAllWindows()"
   ]
  },
  {
   "cell_type": "code",
   "execution_count": 22,
   "metadata": {},
   "outputs": [],
   "source": [
    "# Translation\n",
    "def translate(img, x, y):\n",
    "    # -x: left; -y: up; x: right; y:down\n",
    "    transMat = np.float32([[1,0,x],[0,1,y]])\n",
    "    dimensions = (img.shape[1], img.shape[0])\n",
    "    return cv.warpAffine(img, transMat, dimensions)\n",
    "\n",
    "translated = translate(img, -100, -100)\n",
    "cv.imshow(\"translated\", translated)\n",
    "\n",
    "cv.waitKey(0)\n",
    "cv.destroyAllWindows()"
   ]
  },
  {
   "cell_type": "code",
   "execution_count": 26,
   "metadata": {},
   "outputs": [],
   "source": [
    "# Rotation\n",
    "def rotate(img, angle, rotPoint=None):\n",
    "    (height, width) = img.shape[:2]\n",
    "    if(rotPoint is None):\n",
    "        rotPoint = (width//2, height//2)\n",
    "    rotMat = cv.getRotationMatrix2D(rotPoint, angle, 1.0)\n",
    "    dimensions = (width, height)\n",
    "    \n",
    "    return cv.warpAffine(img, rotMat, dimensions)\n",
    "    \n",
    "\n",
    "rotated = rotate(img, 45)\n",
    "cv.imshow(\"rotated\", rotated)\n",
    "\n",
    "cv.waitKey(0)\n",
    "cv.destroyAllWindows()"
   ]
  },
  {
   "cell_type": "code",
   "execution_count": 27,
   "metadata": {},
   "outputs": [],
   "source": [
    "# Risizing\n",
    "resized = cv.resize(img, (500,500), interpolation=cv.INTER_CUBIC)\n",
    "cv.imshow(\"resized\", resized)\n",
    "\n",
    "cv.waitKey(0)\n",
    "cv.destroyAllWindows()"
   ]
  },
  {
   "cell_type": "code",
   "execution_count": 30,
   "metadata": {},
   "outputs": [],
   "source": [
    "# Flipping\n",
    "flipped = cv.flip(img, -1) # 0: vertical; 1: horizontal; -1: os dois\n",
    "cv.imshow(\"flipped\", flipped)\n",
    "\n",
    "cv.waitKey(0)\n",
    "cv.destroyAllWindows()"
   ]
  },
  {
   "cell_type": "code",
   "execution_count": null,
   "metadata": {},
   "outputs": [
    {
     "name": "stdout",
     "output_type": "stream",
     "text": [
      "402 contour(s) found\n"
     ]
    }
   ],
   "source": [
    "# Contours\n",
    "gray = cv.cvtColor(img, cv.COLOR_BGR2GRAY)\n",
    "# blur = cv.GaussianBlur(gray, (3,3), cv.BORDER_DEFAULT)\n",
    "# canny = cv.Canny(blur, 125, 175)\n",
    "ret, thresh = cv.threshold(gray, 100, 255, cv.THRESH_BINARY)\n",
    "\n",
    "cv.imshow(\"thresh\", thresh)\n",
    "\n",
    "cv.waitKey(0)\n",
    "cv.destroyAllWindows()\n",
    "\n",
    "contours, hierarchies = cv.findContours(thresh, cv.RETR_LIST, cv.CHAIN_APPROX_SIMPLE)\n",
    "print(f\"{len(contours)} contour(s) found\")"
   ]
  },
  {
   "cell_type": "code",
   "execution_count": null,
   "metadata": {},
   "outputs": [],
   "source": [
    "# Show contours\n",
    "blank = np.zeros(img.shape, dtype=\"uint8\")\n",
    "cv.drawContours(blank, contours, -1, (0,255,0), 1)\n",
    "cv.imshow(\"blank\", blank)\n",
    "cv.waitKey(0)\n",
    "cv.destroyAllWindows()"
   ]
  },
  {
   "cell_type": "code",
   "execution_count": 4,
   "metadata": {},
   "outputs": [],
   "source": [
    "# Color spaces\n",
    "gray = cv.cvtColor(img, cv.COLOR_BGR2GRAY) # grayscale\n",
    "hsv  = cv.cvtColor(img, cv.COLOR_BGR2HSV) # hsv\n",
    "lab  = cv.cvtColor(img, cv.COLOR_BGR2LAB) # Lab\n",
    "rgb  = cv.cvtColor(img, cv.COLOR_BGR2RGB) # RGB"
   ]
  },
  {
   "cell_type": "code",
   "execution_count": 16,
   "metadata": {},
   "outputs": [],
   "source": [
    "# Color channels\n",
    "b, g, r = cv.split(img)\n",
    "\n",
    "blank = np.zeros(img.shape[:2], dtype=\"uint8\")\n",
    "b = cv.merge([b,blank,blank])\n",
    "g = cv.merge([blank,g,blank])\n",
    "r = cv.merge([blank,blank,r])\n",
    "cv.imshow(\"b\",b)\n",
    "cv.imshow(\"g\",g)\n",
    "cv.imshow(\"r\",r)\n",
    "\n",
    "# merged = cv.merge([b,g,r])\n",
    "# cv.imshow(\"merged\", merged)\n",
    "\n",
    "cv.waitKey(0)\n",
    "cv.destroyAllWindows()"
   ]
  },
  {
   "cell_type": "code",
   "execution_count": 15,
   "metadata": {},
   "outputs": [],
   "source": [
    "cv.destroyAllWindows()"
   ]
  },
  {
   "cell_type": "code",
   "execution_count": null,
   "metadata": {},
   "outputs": [],
   "source": [
    "# Averaging\n",
    "average = cv.blur(img, (7,7))\n",
    "cv.imshow(\"average\",average)\n",
    "\n",
    "cv.waitKey(0)\n",
    "cv.destroyAllWindows()"
   ]
  },
  {
   "cell_type": "code",
   "execution_count": 19,
   "metadata": {},
   "outputs": [],
   "source": [
    "# Gaussian\n",
    "gaussian = cv.GaussianBlur(img, (7,7), 0)\n",
    "cv.imshow(\"gaussian\",gaussian)\n",
    "\n",
    "cv.waitKey(0)\n",
    "cv.destroyAllWindows()"
   ]
  },
  {
   "cell_type": "code",
   "execution_count": null,
   "metadata": {},
   "outputs": [],
   "source": [
    "# Median blur - usado pra cv\n",
    "median = cv.medianBlur(img, 3)\n",
    "cv.imshow(\"median\",median)\n",
    "\n",
    "cv.waitKey(0)\n",
    "cv.destroyAllWindows()"
   ]
  },
  {
   "cell_type": "code",
   "execution_count": 25,
   "metadata": {},
   "outputs": [],
   "source": [
    "# Bilateral blur\n",
    "bilateral = cv.bilateralFilter(img, 10, 35, 25)\n",
    "cv.imshow(\"bilateral\",bilateral)\n",
    "\n",
    "cv.waitKey(0)\n",
    "cv.destroyAllWindows()"
   ]
  },
  {
   "cell_type": "code",
   "execution_count": 27,
   "metadata": {},
   "outputs": [],
   "source": [
    "blank = np.zeros((400,400), dtype=\"uint8\")\n",
    "rectangle = cv.rectangle(blank.copy(), (30,30), (370,370), 255, -1)\n",
    "circle = cv.circle(blank.copy(), (200,200), 200, 255, -1)\n",
    "\n",
    "cv.imshow(\"rectangle\",rectangle)\n",
    "cv.imshow(\"circle\",circle)\n",
    "\n",
    "cv.waitKey(0)\n",
    "cv.destroyAllWindows()"
   ]
  },
  {
   "cell_type": "code",
   "execution_count": 30,
   "metadata": {},
   "outputs": [],
   "source": [
    "# Bitwise AND\n",
    "bitwise_and = cv.bitwise_and(rectangle, circle)\n",
    "bitwise_or = cv.bitwise_or(rectangle, circle)\n",
    "bitwise_xor = cv.bitwise_xor(rectangle, circle)\n",
    "bitwise_not = cv.bitwise_not(rectangle, circle)\n",
    "\n",
    "cv.imshow(\"bitwise_and\",bitwise_and)\n",
    "cv.imshow(\"bitwise_or\",bitwise_or)\n",
    "cv.imshow(\"bitwise_xor\",bitwise_xor)\n",
    "cv.imshow(\"bitwise_not\",bitwise_not)\n",
    "\n",
    "cv.waitKey(0)\n",
    "cv.destroyAllWindows()"
   ]
  },
  {
   "cell_type": "code",
   "execution_count": null,
   "metadata": {},
   "outputs": [],
   "source": []
  }
 ],
 "metadata": {
  "kernelspec": {
   "display_name": "Python 3",
   "language": "python",
   "name": "python3"
  },
  "language_info": {
   "codemirror_mode": {
    "name": "ipython",
    "version": 3
   },
   "file_extension": ".py",
   "mimetype": "text/x-python",
   "name": "python",
   "nbconvert_exporter": "python",
   "pygments_lexer": "ipython3",
   "version": "3.12.3"
  }
 },
 "nbformat": 4,
 "nbformat_minor": 2
}
