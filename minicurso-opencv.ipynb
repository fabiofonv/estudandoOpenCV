{
 "cells": [
  {
   "cell_type": "markdown",
   "metadata": {},
   "source": [
    "##### 0 - Instalando as biblotecas\n",
    "- opencv-contrib-python: Pacote do opencv, com módulo principal e contribuições;"
   ]
  },
  {
   "cell_type": "code",
   "execution_count": 1,
   "metadata": {},
   "outputs": [],
   "source": [
    "# !pip install opencv-contrib-python\n",
    "# !pip install matplotlib\n",
    "# !pip install numpy\n",
    "\n",
    "import cv2 as cv\n",
    "import numpy as np\n",
    "import matplotlib.pyplot as plt"
   ]
  },
  {
   "cell_type": "markdown",
   "metadata": {},
   "source": [
    "#### 1 - Introdução"
   ]
  },
  {
   "cell_type": "markdown",
   "metadata": {},
   "source": [
    "##### 1.1 - Lendo imagens\n",
    "- cv.imread(): Recebe um caminho pra arquivo e o tranforma em uma matriz de pixels;\n",
    "- cv.imshow(): Recebe uma matriz de pixels e cria uma janela com a imagem;\n",
    "- cv.waitKey(): Espera por uma tecla para fechar a janela por um tempo definido. Zero = tempo indefinido;\n",
    "- cv.destroyWindow(): Fecha a janela com o nome especificado."
   ]
  },
  {
   "cell_type": "code",
   "execution_count": 2,
   "metadata": {},
   "outputs": [],
   "source": [
    "img = cv.imread(\"Photos/cat.jpg\")\n",
    "cv.imshow(\"Cat\", img)\n",
    "cv.waitKey(0)\n",
    "cv.destroyWindow(\"Cat\")"
   ]
  },
  {
   "cell_type": "markdown",
   "metadata": {},
   "source": [
    "##### 1.2 - Lendo videos\n",
    "- cv.VideoCapture(): Recebe uma string com o caminho de um vídeo ou um int que referencia uma câmera do computador;\n",
    "- capture.read(): Lê o objeto criado pelo cv.VideoCapture() e retorna se existe um frame e a matriz de pixels desse frame;\n",
    "- capture.release(): Liberar o ponteiro de captura;\n",
    "- cv.destroyAllWindows(): Fecha todas as janelas do opencv abertas;\n",
    "- Perceba que se você tentar ler depois da última frame, vai acontecer um erro, pois o comando não vai achar o caminho especificado."
   ]
  },
  {
   "cell_type": "code",
   "execution_count": 3,
   "metadata": {},
   "outputs": [],
   "source": [
    "capture = cv.VideoCapture(\"Videos/dog.mp4\")\n",
    "isTrue, frame = capture.read()\n",
    "while isTrue:\n",
    "    if cv.waitKey(9) and 0xFF==ord(\"d\"):\n",
    "        break\n",
    "    cv.imshow(\"Dog video\", frame)\n",
    "    isTrue, frame = capture.read()\n",
    "    \n",
    "cv.destroyAllWindows()\n",
    "capture.release()"
   ]
  },
  {
   "cell_type": "markdown",
   "metadata": {},
   "source": [
    "##### 1.3 - Redimensionando e reescalando\n",
    "- cv.resize(): Recebe a matriz de pixels, a tupla de dimensões e o parâmetro de interpolação;\n",
    "- Para evitar e deformações e por praticidade é melhor criar uma função que calcula as proporções dos lados e retorna o método resize;\n",
    "- Em capturas de vídeo ao vivo, você pode mudar o quadro de captura, através do método set()."
   ]
  },
  {
   "cell_type": "code",
   "execution_count": 4,
   "metadata": {},
   "outputs": [],
   "source": [
    "def rescaleFrame(frame, scale=0.75):\n",
    "    # Foto, vídeo ou captura ao vivo\n",
    "    width = int(frame.shape[1] * scale)\n",
    "    height = int(frame.shape[0] * scale)\n",
    "    dimensions = (width, height)\n",
    "    return cv.resize(frame, dimensions, interpolation=cv.INTER_AREA)\n",
    "\n",
    "def changeRes(width, height):\n",
    "    # Só para captura ao vivo\n",
    "    capture.set(3, width)\n",
    "    capture.set(4, height)\n",
    "    "
   ]
  },
  {
   "cell_type": "code",
   "execution_count": 5,
   "metadata": {},
   "outputs": [],
   "source": [
    "capture = cv.VideoCapture(\"Videos/dog.mp4\")\n",
    "isTrue, frame = capture.read()\n",
    "while isTrue:\n",
    "    if cv.waitKey(20) and 0xFF==ord(\"d\"):\n",
    "        break\n",
    "    frame_resized = rescaleFrame(frame, 0.2)\n",
    "    cv.imshow(\"Dog video\", frame_resized)\n",
    "    isTrue, frame = capture.read()\n",
    "    \n",
    "cv.destroyAllWindows()\n",
    "capture.release()"
   ]
  },
  {
   "cell_type": "code",
   "execution_count": 6,
   "metadata": {},
   "outputs": [],
   "source": [
    "cv.destroyAllWindows()"
   ]
  },
  {
   "cell_type": "markdown",
   "metadata": {},
   "source": [
    "#### 2 - Manipulação e Processamento Básico de Imagens"
   ]
  },
  {
   "cell_type": "markdown",
   "metadata": {},
   "source": [
    "##### 2.1 - Desenhando formas e textos\n",
    "- Uma matriz de três dimensões de zeros do numpy (np.zeros()) irá criar uma imagem toda preta, você pode alterar as cores de pixels específicos;\n",
    "- cv.rectangle(): Recebe a matriz, duas tuplas representando o ponto inicial e o ponto final do retângulo, uma tupla representando a cor, e a espessura (cv.FILLED ou -1 = preenchimento);\n",
    "- cv.circle(): Recebe uma tupla representando o centro, um número representando o raio;\n",
    "- cv.line(): Recebe duas tuplas representando o ponto inicial e o ponto final da linha;\n",
    "- cv.putText(): Recebe a string, ponto de começo do texto, a fonte e o tamanho da fonte."
   ]
  },
  {
   "cell_type": "code",
   "execution_count": 7,
   "metadata": {},
   "outputs": [],
   "source": [
    "# Transformando cor RGB\n",
    "blank = np.zeros((500,500,3), dtype=\"uint8\")\n",
    "# blank[200:300, 300:500] = 0,255,0\n",
    "cv.imshow(\"Green\", blank)\n",
    "\n",
    "cv.waitKey(0)\n",
    "cv.destroyAllWindows()"
   ]
  },
  {
   "cell_type": "code",
   "execution_count": 8,
   "metadata": {},
   "outputs": [],
   "source": [
    "# Desenhando retangulos (para preencher pode ser -1 ou cv.FILLED)\n",
    "blank = np.zeros((500,500,3), dtype=\"uint8\")\n",
    "cv.rectangle(blank, (0,0), (blank.shape[1], blank.shape[0]//2), (0,255,0), thickness=cv.FILLED)\n",
    "cv.imshow(\"Green rect\", blank)\n",
    "\n",
    "\n",
    "cv.waitKey(0)\n",
    "cv.destroyAllWindows()"
   ]
  },
  {
   "cell_type": "code",
   "execution_count": 9,
   "metadata": {},
   "outputs": [],
   "source": [
    "# Desenhando círculos\n",
    "blank = np.zeros((500,500,3), dtype=\"uint8\")\n",
    "cv.circle(blank, (blank.shape[1]//2, blank.shape[0]//2), 40, (0,255,0), thickness=3)\n",
    "cv.imshow(\"Green circle\", blank)\n",
    "\n",
    "cv.waitKey(0)\n",
    "cv.destroyAllWindows()"
   ]
  },
  {
   "cell_type": "code",
   "execution_count": 10,
   "metadata": {},
   "outputs": [],
   "source": [
    "# Desenhando linha\n",
    "blank = np.zeros((500,500,3), dtype=\"uint8\")\n",
    "cv.line(blank, (0,0), (blank.shape[1]//2, blank.shape[0]//2), (0,255,0), thickness=3)\n",
    "cv.imshow(\"Green line\", blank)\n",
    "\n",
    "cv.waitKey(0)\n",
    "cv.destroyAllWindows()"
   ]
  },
  {
   "cell_type": "code",
   "execution_count": 11,
   "metadata": {},
   "outputs": [],
   "source": [
    "# Escrevendo texto\n",
    "blank = np.zeros((500,500,3), dtype=\"uint8\")\n",
    "cv.putText(blank, \"Hello\", (0,500), cv.FONT_HERSHEY_TRIPLEX, 1.0, (0,250,0), thickness=2)\n",
    "cv.imshow(\"Green text\", blank)\n",
    "\n",
    "cv.waitKey(0)\n",
    "cv.destroyAllWindows()"
   ]
  },
  {
   "cell_type": "markdown",
   "metadata": {},
   "source": [
    "##### 2.2 - Conversão para Escala de Cinza e Blur (Desfoque)\n",
    "- cv.cvtColor(): Recebe a matriz da imagem e um código de transformação, no caso das imagens utilizadas, que estão em BGR, deve se usar cv.COLOR_BGR2GRAY;\n",
    "- O blur é utilizado para diminuir ruidos na imagens que podem vir a se comportar como outliers, atrapalhando no entendimento da imagem. Existem vários tipos de blur, mas o mais utilizado é o gaussiano;\n",
    "- cv.GaussianBlur(): Recebe a matriz da imagem e uma tupla de tamanho de kernel, que deve ser um quadrado de lados ímpares.\n"
   ]
  },
  {
   "cell_type": "code",
   "execution_count": 12,
   "metadata": {},
   "outputs": [],
   "source": [
    "# Convertendo para escala de cinza\n",
    "img = cv.imread(\"Photos/cat.jpg\")\n",
    "\n",
    "gray = cv.cvtColor(img, cv.COLOR_BGR2GRAY)\n",
    "\n",
    "cv.imshow(\"Cat\", gray)\n",
    "\n",
    "cv.waitKey(0)\n",
    "cv.destroyAllWindows()"
   ]
  },
  {
   "cell_type": "code",
   "execution_count": 13,
   "metadata": {},
   "outputs": [],
   "source": [
    "# Blur, maior o ksize mais borrado\n",
    "blur = cv.GaussianBlur(img, (3,3), cv.BORDER_DEFAULT)\n",
    "cv.imshow(\"Blur\", blur)\n",
    "\n",
    "cv.waitKey(0)\n",
    "cv.destroyAllWindows()"
   ]
  },
  {
   "cell_type": "markdown",
   "metadata": {},
   "source": [
    "##### 2.3 - Transformações Geométricas\n",
    "- cv.resize(): Irá distorcer a imagem dependendo das dimensões escolhidas. A interpolação não precisa ser especificada, o padrão é o cv.INTER_AREA, que é útil para diminuir imagens, porém, para aumentar imagens o cv.INTER_LINEAR ou cv.INTER_CUBIC;\n",
    "- Cortando: Pode-se cortar uma imagem selecionando apenas algumas células específicas da matriz da imagem;\n",
    "- Translação e Rotação:\n",
    "    - cv.warpAffine(): Realiza transformações geométricas na figura. Recebe uma matriz com o as direções em quais a imagens será translacionada e/ou rotacionada. Devido a complexidade da função é mais prático implantar uma função para usá-la;\n",
    "    - cv.getRotationMatrix2D(rotPoint, angle, 1.0): Usada para rotacionar a imagem, recebe um ponto de origem, um número de ângulo e um valor para redimensionar a imagem;\n",
    "- cv.flip(): Recebe a matriz de imagem e um valor para especificar o espelhamento da imagem (0,1,-1)."
   ]
  },
  {
   "cell_type": "code",
   "execution_count": 14,
   "metadata": {},
   "outputs": [],
   "source": [
    "# Redimensionando\n",
    "resized = cv.resize(img, (500,500))\n",
    "cv.imshow(\"Resized\", resized)\n",
    "cv.imshow(\"Gato\", img)\n",
    "\n",
    "cv.waitKey(0)\n",
    "cv.destroyAllWindows()"
   ]
  },
  {
   "cell_type": "code",
   "execution_count": 15,
   "metadata": {},
   "outputs": [],
   "source": [
    "# Cortando\n",
    "cropped = img[50:200, 200:400]\n",
    "cv.imshow(\"Cropped\", cropped)\n",
    "cv.imshow(\"Gato\", img)\n",
    "\n",
    "cv.waitKey(0)\n",
    "cv.destroyAllWindows()"
   ]
  },
  {
   "cell_type": "code",
   "execution_count": 16,
   "metadata": {},
   "outputs": [
    {
     "name": "stdout",
     "output_type": "stream",
     "text": [
      "[[   1.    0. -100.]\n",
      " [   0.    1. -100.]]\n"
     ]
    }
   ],
   "source": [
    "# Translação\n",
    "def translate(img, x, y):\n",
    "    # -x:esq; -y:cima; x:dir; y:baixo\n",
    "    transMat = np.float32([[1,0,x],[0,1,y]])\n",
    "    dimensions = (img.shape[1], img.shape[0])\n",
    "    print(transMat)\n",
    "    return cv.warpAffine(img, transMat, dimensions)\n",
    "\n",
    "translated = translate(img, -100, -100)\n",
    "cv.imshow(\"translated\", translated)\n",
    "cv.imshow(\"Gato\", img)\n",
    "\n",
    "cv.waitKey(0)\n",
    "cv.destroyAllWindows()"
   ]
  },
  {
   "cell_type": "code",
   "execution_count": 17,
   "metadata": {},
   "outputs": [
    {
     "name": "stdout",
     "output_type": "stream",
     "text": [
      "[[  0.70710678   0.70710678 -56.88791437]\n",
      " [ -0.70710678   0.70710678 288.66042559]]\n"
     ]
    }
   ],
   "source": [
    "# Rotação\n",
    "def rotate(img, angle, rotPoint=None):\n",
    "    (height, width) = img.shape[:2]\n",
    "    if(rotPoint is None):\n",
    "        rotPoint = (width//2, height//2)\n",
    "    rotMat = cv.getRotationMatrix2D(rotPoint, angle, 1.0)\n",
    "    dimensions = (width, height)\n",
    "    print(rotMat)\n",
    "    \n",
    "    return cv.warpAffine(img, rotMat, dimensions)\n",
    "    \n",
    "\n",
    "rotated = rotate(img, 45)\n",
    "cv.imshow(\"rotated\", rotated)\n",
    "cv.imshow(\"Gato\", img)\n",
    "\n",
    "cv.waitKey(0)\n",
    "cv.destroyAllWindows()"
   ]
  },
  {
   "cell_type": "code",
   "execution_count": 18,
   "metadata": {},
   "outputs": [],
   "source": [
    "# Espelhamento\n",
    "flipped = cv.flip(img, -1) # 0: vertical; 1: horizontal; -1: os dois.\n",
    "cv.imshow(\"flipped\", flipped)\n",
    "cv.imshow(\"Gato\", img)\n",
    "\n",
    "cv.waitKey(0)\n",
    "cv.destroyAllWindows()"
   ]
  },
  {
   "cell_type": "markdown",
   "metadata": {},
   "source": [
    "#### 3 - Detecção de Bordas e Contorno"
   ]
  },
  {
   "cell_type": "markdown",
   "metadata": {},
   "source": [
    "##### 3.1 - Canny Edge Detector\n",
    "- Existem vários tipos de detecção de bordas, mas o Canny é o mais conhecido em visão computacional;\n",
    "- cv.Canny(): Recebe a matriz da imagem e dois valores de limiares (threshold). Observa-se que quando aplicado o blur, detecta-se menos contornos;\n",
    "- cv.dilate(): Aumenta as áreas de objetos em primeiro plano (brancos) e encolhe os buracos. O número de iterações controla a intensidade da dilatação, assim como o tamanho do kernel;\n",
    "- cv.erode(): Encolhe as áreas de objetos em primeiro plano e aumenta os buracos. Pode ser usado para reverter parcialmente a dilatação."
   ]
  },
  {
   "cell_type": "code",
   "execution_count": 19,
   "metadata": {},
   "outputs": [],
   "source": [
    "# Edge Cascade, imagem com blur vai mostrar menos bordas\n",
    "canny = cv.Canny(img, 125, 175)\n",
    "canny_blur = cv.Canny(blur, 125, 175)\n",
    "cv.imshow(\"Canny\", canny)\n",
    "cv.imshow(\"Canny Blur\", canny_blur)\n",
    "\n",
    "cv.waitKey(0)\n",
    "cv.destroyAllWindows()"
   ]
  },
  {
   "cell_type": "code",
   "execution_count": 20,
   "metadata": {},
   "outputs": [],
   "source": [
    "# Dilatando contornos\n",
    "dilated = cv.dilate(canny_blur, (7,7), iterations=3)\n",
    "cv.imshow(\"Dilatado\", dilated)\n",
    "\n",
    "cv.waitKey(0)\n",
    "cv.destroyAllWindows()"
   ]
  },
  {
   "cell_type": "code",
   "execution_count": 21,
   "metadata": {},
   "outputs": [],
   "source": [
    "# Erosão\n",
    "eroded = cv.erode(dilated, (7,7), iterations=3)\n",
    "cv.imshow(\"Erodido\", eroded)\n",
    "\n",
    "cv.waitKey(0)\n",
    "cv.destroyAllWindows()"
   ]
  },
  {
   "cell_type": "markdown",
   "metadata": {},
   "source": [
    "##### 3.2 - Contornos e limiarização\n",
    "- Contornos são basicamente as linhas e curvas que juntos os pontos contínuos ao longo das fronteiras dos objetos. Sob o ponto de vista matemático, eles não são o mesmo que bordas;\n",
    "- cv.findCountours():\n",
    "    - Recebe a matriz, o modo de recuperação e o método de aproximação;\n",
    "    - Retorna os contornos e hierarquias (Ex.: quais formas são mais proeminentes). \n",
    "    - Modos de Recuperação (mode): cv.RETR_LIST (todos os contornos), cv.RETR_EXTERNAL (apenas os externos), cv.RETR_TREE (todos os contornos em uma hierarquia);\n",
    "    - Métodos de Aproximação (method): cv.CHAIN_APPROX_NONE (retorna todos os pontos do contorno), cv.CHAIN_APPROX_SIMPLE (comprime os pontos do contorno, mantendo apenas os essenciais para definir a forma, ex: dois pontos para uma linha reta);\n",
    "    - Para diminuir o número de contornos, você pode usar um blur ou usar o threshold.\n",
    "- cv.threshold(): Usa limiares de valor para transformar, por exemplo, valores de 0 a 255 em valores de 0 e 1 (binarização):\n",
    "    - Recebe a matriz, um limiar médio, um limiar médio e o tipo de threshold, no caso cv.THRESH_BINARY é para realizar a binarização;\n",
    "- cv.drawContours(): Recebe uma matriz de zeros (tela preta), a lista de contornos, a quantidade de contornos (-1: todos), a cor e a espessura.\n"
   ]
  },
  {
   "cell_type": "code",
   "execution_count": 22,
   "metadata": {},
   "outputs": [
    {
     "name": "stdout",
     "output_type": "stream",
     "text": [
      "402 contour(s) found\n"
     ]
    }
   ],
   "source": [
    "# Contornos\n",
    "gray = cv.cvtColor(img, cv.COLOR_BGR2GRAY)\n",
    "ret, thresh = cv.threshold(gray, 100, 255, cv.THRESH_BINARY)\n",
    "\n",
    "# blur = cv.GaussianBlur(gray, (3,3), cv.BORDER_DEFAULT)\n",
    "cv.imshow(\"thresh\", thresh)\n",
    "\n",
    "cv.waitKey(0)\n",
    "cv.destroyAllWindows()\n",
    "\n",
    "contours, hierarchies = cv.findContours(thresh, cv.RETR_LIST, cv.CHAIN_APPROX_SIMPLE)\n",
    "print(f\"{len(contours)} contour(s) found\")"
   ]
  },
  {
   "cell_type": "code",
   "execution_count": 23,
   "metadata": {},
   "outputs": [],
   "source": [
    "# Mostrar contornos\n",
    "blank = np.zeros(img.shape, dtype=\"uint8\") # Cria uma matriz vazio do tamanho da imagem\n",
    "cv.drawContours(blank, contours, -1, (0,255,0), 1)\n",
    "cv.imshow(\"contornos desenhados\", blank)\n",
    "cv.waitKey(0)\n",
    "cv.destroyAllWindows()"
   ]
  },
  {
   "cell_type": "markdown",
   "metadata": {},
   "source": [
    "##### 3.3 - Cores, mascaramento, bitwise e histogramas\n",
    "- Espaços de Cores, Divisão e Fusão de Canais: OpenCV lê imagens no formato BGR, diferente do RGB comum. Exibir uma imagem BGR em uma biblioteca como Matplotlib (que usa RGB) resultará em inversão de cores. Usa-se cv.cvtColor(imagem, cv.COLOR_BGR2RGB) para converter;"
   ]
  },
  {
   "cell_type": "code",
   "execution_count": 24,
   "metadata": {},
   "outputs": [],
   "source": [
    "# Espaços de cor\n",
    "gray = cv.cvtColor(img, cv.COLOR_BGR2GRAY) # grayscale\n",
    "hsv  = cv.cvtColor(img, cv.COLOR_BGR2HSV) # hsv\n",
    "lab  = cv.cvtColor(img, cv.COLOR_BGR2LAB) # Lab\n",
    "rgb  = cv.cvtColor(img, cv.COLOR_BGR2RGB) # RGB\n",
    "\n",
    "cv.imshow(\"gray\", gray)\n",
    "cv.imshow(\"hsv\", hsv)\n",
    "cv.imshow(\"lab\", lab)\n",
    "cv.imshow(\"rgb\", rgb)\n",
    "cv.waitKey(0)\n",
    "cv.destroyAllWindows()"
   ]
  },
  {
   "cell_type": "code",
   "execution_count": 25,
   "metadata": {},
   "outputs": [],
   "source": [
    "# Canais de cor\n",
    "b, g, r = cv.split(img)\n",
    "\n",
    "blank = np.zeros(img.shape[:2], dtype=\"uint8\")\n",
    "# bg = cv.merge([b,g,blank])\n",
    "# gr = cv.merge([blank,g,r])\n",
    "# br = cv.merge([b,blank,r])\n",
    "\n",
    "b = cv.merge([b,blank,blank])\n",
    "g = cv.merge([blank,g,blank])\n",
    "r = cv.merge([blank,blank,r])\n",
    "\n",
    "cv.imshow(\"b\",b)\n",
    "cv.imshow(\"g\",g)\n",
    "cv.imshow(\"r\",r)\n",
    "\n",
    "# cv.imshow(\"bg\", bg)\n",
    "# cv.imshow(\"gr\", gr)\n",
    "# cv.imshow(\"br\", br)\n",
    "\n",
    "# merged = cv.merge([b,g,r])\n",
    "# cv.imshow(\"merged\", merged)\n",
    "\n",
    "cv.waitKey(0)\n",
    "cv.destroyAllWindows()"
   ]
  },
  {
   "cell_type": "code",
   "execution_count": 38,
   "metadata": {},
   "outputs": [],
   "source": [
    "cv.destroyAllWindows()"
   ]
  },
  {
   "cell_type": "markdown",
   "metadata": {},
   "source": [
    "- Operadores Bitwise: Operam em nível binário (pixel \"ligado\" como 1 ou \"desligado\" como 0). Incluem AND, OR, XOR e NOT;"
   ]
  },
  {
   "cell_type": "code",
   "execution_count": 27,
   "metadata": {},
   "outputs": [],
   "source": [
    "blank = np.zeros((400,400), dtype=\"uint8\")\n",
    "rectangle = cv.rectangle(blank.copy(), (30,30), (370,370), 255, -1)\n",
    "circle = cv.circle(blank.copy(), (200,200), 200, 255, -1)\n",
    "\n",
    "cv.imshow(\"rectangle\",rectangle)\n",
    "cv.imshow(\"circle\",circle)\n",
    "\n",
    "cv.waitKey(0)\n",
    "cv.destroyAllWindows()"
   ]
  },
  {
   "cell_type": "code",
   "execution_count": 28,
   "metadata": {},
   "outputs": [],
   "source": [
    "# Bitwise AND\n",
    "bitwise_and = cv.bitwise_and(rectangle, circle)\n",
    "bitwise_or = cv.bitwise_or(rectangle, circle)\n",
    "bitwise_xor = cv.bitwise_xor(rectangle, circle)\n",
    "bitwise_not = cv.bitwise_not(rectangle, circle)\n",
    "\n",
    "# cv.imshow(\"bitwise_and\",bitwise_and)\n",
    "# cv.imshow(\"bitwise_or\",bitwise_or)\n",
    "# cv.imshow(\"bitwise_xor\",bitwise_xor)\n",
    "# cv.imshow(\"bitwise_not\",bitwise_not)\n",
    "\n",
    "cv.waitKey(0)\n",
    "cv.destroyAllWindows()"
   ]
  },
  {
   "cell_type": "markdown",
   "metadata": {},
   "source": [
    "- Mascaramento: Permite focar em partes específicas de uma imagem, removendo regiões indesejadas. A máscara (que pode ser uma forma desenhada em uma imagem em branco) deve ter as mesmas dimensões da imagem original. É aplicado usando cv.bitwise_and() com o parâmetro mask;"
   ]
  },
  {
   "cell_type": "code",
   "execution_count": 42,
   "metadata": {},
   "outputs": [],
   "source": [
    "# Mascaramento\n",
    "img = cv.imread(\"Photos/cats.jpg\")\n",
    "cv.imshow(\"gatos\", img)\n",
    "\n",
    "blank = np.zeros(img.shape[:2], dtype=\"uint8\")\n",
    "\n",
    "mask = cv.circle(blank, (img.shape[1]//2, img.shape[0]//2), 100, 255, -1)\n",
    "cv.imshow(\"mascara\", mask)\n",
    "\n",
    "masked = cv.bitwise_and(img, img, mask=mask)\n",
    "cv.imshow(\"img com mascara\", masked)\n",
    "\n",
    "cv.waitKey(0)\n",
    "cv.destroyAllWindows()"
   ]
  },
  {
   "cell_type": "markdown",
   "metadata": {},
   "source": [
    "- Histogramas: Permitem visualizar a distribuição de intensidade de pixels em uma imagem (seja em escala de cinza ou colorida). Aceita uma lista de imagens, uma lista do índice que representa o canal de cores que você quer utilizar, pode ser colocada uma máscara, o número de bins (intervalos de classe), e o alcance de valores de todos os pixels."
   ]
  },
  {
   "cell_type": "code",
   "execution_count": null,
   "metadata": {},
   "outputs": [
    {
     "data": {
      "image/png": "[encoded data removed]",
      "text/plain": [
       "<Figure size 640x480 with 1 Axes>"
      ]
     },
     "metadata": {},
     "output_type": "display_data"
    }
   ],
   "source": [
    "# Histogramas\n",
    "gray = cv.cvtColor(img, cv.COLOR_BGR2GRAY)\n",
    "# gray = cv.cvtColor(masked, cv.COLOR_BGR2GRAY)\n",
    "cv.imshow(\"cinza\", gray)\n",
    "\n",
    "gray_hist = cv.calcHist([gray], [0], None, [256], [0,256])\n",
    "# gray_hist = cv.calcHist([gray], [0], mask, [256], [0,256])\n",
    "\n",
    "plt.figure()\n",
    "plt.title(\"Grayscale Hist\")\n",
    "plt.xlabel(\"Classes\")\n",
    "plt.ylabel(\"Nº de pixels\")\n",
    "plt.plot(gray_hist)\n",
    "plt.xlim([0,256])\n",
    "plt.show()\n",
    "\n",
    "cv.waitKey(0)\n",
    "cv.destroyAllWindows()"
   ]
  },
  {
   "cell_type": "code",
   "execution_count": 51,
   "metadata": {},
   "outputs": [
    {
     "data": {
      "image/png": "[encoded data removed]",
      "text/plain": [
       "<Figure size 640x480 with 1 Axes>"
      ]
     },
     "metadata": {},
     "output_type": "display_data"
    }
   ],
   "source": [
    "# Histograma colorido\n",
    "plt.figure()\n",
    "plt.title(\"Colour Hist\")\n",
    "plt.xlabel(\"Classes\")\n",
    "plt.ylabel(\"Nº de pixels\")\n",
    "colors = (\"b\", \"g\", \"r\")\n",
    "for i, col in enumerate(colors):\n",
    "    hist = cv.calcHist([img], [i], None, [256], [0,256])\n",
    "    plt.plot(hist, color=col)\n",
    "    plt.xlim([0,256])\n",
    "plt.show()\n",
    "\n",
    "cv.imshow(\"gatos\", img)\n",
    "cv.waitKey(0)\n",
    "cv.destroyAllWindows()"
   ]
  },
  {
   "cell_type": "markdown",
   "metadata": {},
   "source": [
    "##### 3.4 - Tipos de blur\n",
    "- Averaging (blur por média): Tira a média da intensidade de cor dos pixels periféricos do kernel;\n",
    "- Gaussian Blur: Faz a mesma coisa que o averaging, mas com médias ponderadas. Gera menos desfoque, mas acaba sendo mais natural;\n",
    "- Median (blur por mediana): Tira a mediana da intensidade de cor dos pixels periféricos do kernel. Útil para remover ruídos de imagens;\n",
    "- Blur bilateral: Útil para manter as bordas da imagem. Usa valores para considerar cores diferentes e distâncias diferentes do pixel em foque."
   ]
  },
  {
   "cell_type": "code",
   "execution_count": 36,
   "metadata": {},
   "outputs": [],
   "source": [
    "# Averaging\n",
    "average = cv.blur(img, (7,7))\n",
    "cv.imshow(\"average\",average)\n",
    "\n",
    "# Gaussian\n",
    "gaussian = cv.GaussianBlur(img, (7,7), 0)\n",
    "cv.imshow(\"gaussian\",gaussian)\n",
    "\n",
    "# Median blur - usado pra cv\n",
    "median = cv.medianBlur(img, 3)\n",
    "cv.imshow(\"median\",median)\n",
    "\n",
    "# Bilateral blur\n",
    "bilateral = cv.bilateralFilter(img, 10, 35, 25)\n",
    "cv.imshow(\"bilateral\",bilateral)\n",
    "\n",
    "cv.waitKey(0)\n",
    "cv.destroyAllWindows()"
   ]
  },
  {
   "cell_type": "markdown",
   "metadata": {},
   "source": [
    "#### Tópicos Avançados"
   ]
  },
  {
   "cell_type": "markdown",
   "metadata": {},
   "source": [
    "##### Detecção Facial (Haar Cascades): \n",
    "O OpenCV oferece classificadores pré-treinados (como Haar Cascades) para detectar a presença de faces em uma imagem, sem identificar quem é a pessoa. Os classificadores Haar Cascade são sensíveis a ruídos, mas fáceis de usar.\n",
    "O OpenCV oferece diversos classificadores Haar Cascades: https://github.com/opencv/opencv/tree/4.x/data/haarcascades ."
   ]
  },
  {
   "cell_type": "code",
   "execution_count": null,
   "metadata": {},
   "outputs": [
    {
     "name": "stdout",
     "output_type": "stream",
     "text": [
      "Nº de faces: 19\n"
     ]
    }
   ],
   "source": [
    "img = cv.imread(\"Photos/lady.jpg\")\n",
    "cv.imshow(\"Person\", img)\n",
    "\n",
    "# img = cv.imread(\"Photos/group 2.jpg\")\n",
    "# img = cv.imread(\"Photos/group 1.jpg\")\n",
    "\n",
    "# gray = cv.cvtColor(img, cv.COLOR_BGR2GRAY)\n",
    "\n",
    "# haar_cascade = cv.CascadeClassifier(\"haar_face.xml\")\n",
    "\n",
    "# faces_rect = haar_cascade.detectMultiScale(gray, scaleFactor=1.1, minNeighbors=3)\n",
    "\n",
    "# print(f\"Nº de faces: {len(faces_rect)}\")\n",
    "\n",
    "# for (x,y,w,h) in faces_rect:\n",
    "#     cv.rectangle(img, (x,y), (x+w,y+h), (0,255,0), thickness=2)\n",
    "    \n",
    "# cv.imshow(\"Face detectada\", img)\n",
    "\n",
    "cv.waitKey(0)\n",
    "cv.destroyAllWindows()"
   ]
  },
  {
   "cell_type": "markdown",
   "metadata": {},
   "source": [
    "##### Reconhecimento Facial: \n",
    "Envolve identificar quem é a pessoa em uma imagem. O OpenCV possui um reconhecedor facial embutido (cv.face.LBPHFaceRecognizer_create()) que pode ser treinado em um conjunto de imagens e rótulos;"
   ]
  },
  {
   "cell_type": "code",
   "execution_count": 11,
   "metadata": {},
   "outputs": [],
   "source": [
    "import os\n",
    "\n",
    "pessoas = []\n",
    "for i in os.listdir(\"Faces/train\"):\n",
    "    pessoas.append(i)\n",
    "    \n",
    "DIR = \"Faces/train\"\n",
    "haar_cascade = cv.CascadeClassifier(\"haar_face.xml\")\n",
    "\n",
    "features=[]\n",
    "labels=[]\n",
    "def create_train():\n",
    "    for pessoa in pessoas:\n",
    "        path = os.path.join(DIR, pessoa)\n",
    "        label = pessoas.index(pessoa)\n",
    "        \n",
    "        for img in os.listdir(path):\n",
    "            img_path = os.path.join(path,img)\n",
    "            \n",
    "            img_array = cv.imread(img_path)\n",
    "            gray = cv.cvtColor(img_array, cv.COLOR_BGR2GRAY)\n",
    "            \n",
    "            faces_rect = haar_cascade.detectMultiScale(gray, scaleFactor=1.1, minNeighbors=4)\n",
    "            for (x,y,w,h) in faces_rect:\n",
    "                faces_roi = gray[y:y+h, x:x+w]\n",
    "                features.append(faces_roi)\n",
    "                labels.append(label)"
   ]
  },
  {
   "cell_type": "code",
   "execution_count": 12,
   "metadata": {},
   "outputs": [
    {
     "name": "stdout",
     "output_type": "stream",
     "text": [
      "Quantidade de feições: 100\n",
      "Quantidade de rótulos: 100\n"
     ]
    }
   ],
   "source": [
    "create_train()\n",
    "print(f\"Quantidade de feições: {len(features)}\")\n",
    "print(f\"Quantidade de rótulos: {len(labels)}\")"
   ]
  },
  {
   "cell_type": "code",
   "execution_count": null,
   "metadata": {},
   "outputs": [],
   "source": [
    "features = np.array(features, dtype=\"object\")\n",
    "labels = np.array(labels)\n",
    "\n",
    "face_recognizer = cv.face.LBPHFaceRecognizer_create()\n",
    "\n",
    "face_recognizer.train(features, labels)\n",
    "\n",
    "face_recognizer.save(\"face_traines.yml\")\n",
    "\n",
    "np.save(\"features.npy\", features)\n",
    "np.save(\"labels.npy\", labels)\n"
   ]
  },
  {
   "cell_type": "code",
   "execution_count": null,
   "metadata": {},
   "outputs": [],
   "source": [
    "# features = np.load(\"features.npy\")\n",
    "# labels = np.load(\"labels.npy\")\n",
    "\n",
    "face_recognizer = cv.face.LBPHFaceRecognizer_create()\n",
    "face_recognizer.read(\"face_traines.yml\")"
   ]
  },
  {
   "cell_type": "code",
   "execution_count": 25,
   "metadata": {},
   "outputs": [],
   "source": [
    "img = cv.imread(\"Faces/val/madonna/4.jpg\")\n",
    "gray = cv.cvtColor(img, cv.COLOR_BGR2GRAY)\n",
    "\n",
    "cv.imshow(\"pessoa\", img)\n",
    "cv.waitKey(0)\n",
    "cv.destroyAllWindows()"
   ]
  },
  {
   "cell_type": "code",
   "execution_count": 26,
   "metadata": {},
   "outputs": [
    {
     "name": "stdout",
     "output_type": "stream",
     "text": [
      "Rótulo: Madonna | Confiança: 96.81807061458018\n"
     ]
    }
   ],
   "source": [
    "faces_rect = haar_cascade.detectMultiScale(gray, 1.1, 4)\n",
    "\n",
    "for (x,y,w,h) in faces_rect:\n",
    "    faces_roi = gray[y:y+h, x:x+w]\n",
    "    \n",
    "    label, confidence = face_recognizer.predict(faces_roi)\n",
    "    print(f\"Rótulo: {str(pessoas[label])} | Confiança: {confidence}\")\n",
    "    \n",
    "    cv.putText(img, str(pessoas[label]), (20,20), cv.FONT_HERSHEY_COMPLEX, 0.5, (0,255,0), thickness=2)\n",
    "    cv.rectangle(img, (x,y), (x+w,y+h), (0,255,0), thickness=2)\n",
    "    \n",
    "cv.imshow(\"pessoa\", img)\n",
    "cv.waitKey(0)\n",
    "cv.destroyAllWindows()"
   ]
  },
  {
   "cell_type": "markdown",
   "metadata": {},
   "source": [
    "##### Modelos de Deep Computer Vision: \n",
    "Para tarefas mais complexas como classificação de personagens (ex: Os Simpsons), modelos de aprendizado profundo (Deep Learning) são mais eficazes. Bibliotecas como TensorFlow/Keras são usadas para construir e treinar esses modelos, com o OpenCV sendo utilizado para pré-processamento de dados como redimensionamento.\n",
    "\n",
    "https://www.kaggle.com/datasets/alexattia/the-simpsons-characters-dataset"
   ]
  },
  {
   "cell_type": "code",
   "execution_count": null,
   "metadata": {},
   "outputs": [],
   "source": [
    "cv.destroyAllWindows()"
   ]
  }
 ],
 "metadata": {
  "kernelspec": {
   "display_name": "Python 3",
   "language": "python",
   "name": "python3"
  },
  "language_info": {
   "codemirror_mode": {
    "name": "ipython",
    "version": 3
   },
   "file_extension": ".py",
   "mimetype": "text/x-python",
   "name": "python",
   "nbconvert_exporter": "python",
   "pygments_lexer": "ipython3",
   "version": "3.12.9"
  }
 },
 "nbformat": 4,
 "nbformat_minor": 2
}
